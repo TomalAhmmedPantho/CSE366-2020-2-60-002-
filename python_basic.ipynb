{
  "cells": [
    {
      "cell_type": "markdown",
      "metadata": {
        "colab_type": "text",
        "id": "view-in-github"
      },
      "source": [
        "<a href=\"https://colab.research.google.com/github/raihanewubd/AI-24SUMMER/blob/main/python_basic.ipynb\" target=\"_parent\"><img src=\"https://colab.research.google.com/assets/colab-badge.svg\" alt=\"Open In Colab\"/></a>"
      ]
    },
    {
      "cell_type": "markdown",
      "metadata": {
        "id": "oOQ2sQH1NZVR"
      },
      "source": [
        "# **Python**\n",
        "**List of Topics**\n",
        "\n",
        "---\n",
        "\n",
        "\n",
        "1. Python Variable\n",
        "2. Python Type Conversion\n",
        "3. Python Input Output\n",
        "4. Arithmetic Operators in Python\n",
        "5. Comparison Operators\n",
        "6. Logical Operators\n",
        "7. Python if…else Statement\n",
        "8. Python if…elif…else Statement\n",
        "9. Python Nested if Statements\n",
        "10. Python for Loop\n",
        "11. Python Nested for Loop\n",
        "12. Python Mathematics\n",
        "13. Python List\n",
        "14. Python Tuple\n",
        "15. List Tuple Conversion\n",
        "16. Python String\n",
        "17. Python Set\n",
        "18. Python Dictionary\n",
        "19. Python Function"
      ]
    },
    {
      "cell_type": "markdown",
      "metadata": {
        "id": "gAnAcJwKNk_c"
      },
      "source": [
        "**Python Variables**"
      ]
    },
    {
      "cell_type": "code",
      "execution_count": 8,
      "metadata": {
        "id": "rPYAII42L_Qe"
      },
      "outputs": [
        {
          "name": "stdout",
          "output_type": "stream",
          "text": [
            "Name: John\n",
            "Age: 30\n",
            "Height: 6.1\n",
            "Is Student: False\n"
          ]
        }
      ],
      "source": [
        "# Variable Declaration and Assignment\n",
        "name = \"John\"\n",
        "age = 30\n",
        "height = 6.1\n",
        "is_student = False\n",
        "\n",
        "# Outputting variable values\n",
        "print(\"Name:\", name)\n",
        "print(\"Age:\", age)\n",
        "print(\"Height:\", height)\n",
        "print(\"Is Student:\", is_student)"
      ]
    },
    {
      "cell_type": "code",
      "execution_count": 9,
      "metadata": {
        "id": "KvSSTcTtSQ3t"
      },
      "outputs": [
        {
          "name": "stdout",
          "output_type": "stream",
          "text": [
            "Updated Name: Alice\n",
            "Updated Age: 25\n"
          ]
        }
      ],
      "source": [
        "# Variable Reassignment\n",
        "name = \"Alice\"\n",
        "age = 25\n",
        "\n",
        "# Updated Output\n",
        "print(\"Updated Name:\", name)\n",
        "print(\"Updated Age:\", age)"
      ]
    },
    {
      "cell_type": "code",
      "execution_count": 10,
      "metadata": {
        "id": "PHC9wBYTNTgW"
      },
      "outputs": [
        {
          "name": "stdout",
          "output_type": "stream",
          "text": [
            "Variable Types:\n",
            "Type of name: <class 'str'>\n",
            "Type of age: <class 'int'>\n",
            "Type of height: <class 'float'>\n",
            "Type of is_student: <class 'bool'>\n"
          ]
        }
      ],
      "source": [
        "# Variable Types\n",
        "print(\"Variable Types:\")\n",
        "print(\"Type of name:\", type(name))\n",
        "print(\"Type of age:\", type(age))\n",
        "print(\"Type of height:\", type(height))\n",
        "print(\"Type of is_student:\", type(is_student))"
      ]
    },
    {
      "cell_type": "code",
      "execution_count": 11,
      "metadata": {
        "id": "6qoQwazqNV2x"
      },
      "outputs": [
        {
          "name": "stdout",
          "output_type": "stream",
          "text": [
            "Operations:\n",
            "Sum: 15\n",
            "Difference: 5\n",
            "Product: 50\n",
            "Division: 2.0\n"
          ]
        }
      ],
      "source": [
        "# Variable Operations\n",
        "a = 10\n",
        "b = 5\n",
        "sum_result = a + b\n",
        "difference_result = a - b\n",
        "product_result = a * b\n",
        "division_result = a / b\n",
        "\n",
        "# Outputting Results\n",
        "print(\"Operations:\")\n",
        "print(\"Sum:\", sum_result)\n",
        "print(\"Difference:\", difference_result)\n",
        "print(\"Product:\", product_result)\n",
        "print(\"Division:\", division_result)"
      ]
    },
    {
      "cell_type": "markdown",
      "metadata": {
        "id": "N9jvAaa7Ns1V"
      },
      "source": [
        "**Python Type Conversion**"
      ]
    },
    {
      "cell_type": "code",
      "execution_count": 12,
      "metadata": {
        "id": "-o9PzSRyN28D"
      },
      "outputs": [
        {
          "name": "stdout",
          "output_type": "stream",
          "text": [
            "Data type of num_string before Type Casting: <class 'str'>\n",
            "Data type of num_string after Type Casting: <class 'int'>\n",
            "Sum: 35\n",
            "Data type of num_sum: <class 'int'>\n"
          ]
        }
      ],
      "source": [
        "num_string = '12'\n",
        "num_integer = 23\n",
        "\n",
        "print(\"Data type of num_string before Type Casting:\",type(num_string))\n",
        "\n",
        "num_string = int(num_string)\n",
        "\n",
        "print(\"Data type of num_string after Type Casting:\",type(num_string))\n",
        "\n",
        "num_sum = num_integer + num_string\n",
        "\n",
        "print(\"Sum:\",num_sum)\n",
        "print(\"Data type of num_sum:\",type(num_sum))"
      ]
    },
    {
      "cell_type": "code",
      "execution_count": 13,
      "metadata": {
        "id": "YF_-cmPCV4Ux"
      },
      "outputs": [
        {
          "name": "stdout",
          "output_type": "stream",
          "text": [
            "2\n",
            "-2\n",
            "5.0\n",
            "(3+5j)\n"
          ]
        }
      ],
      "source": [
        "num1 = int(2.3)\n",
        "print(num1)\n",
        "\n",
        "num2 = int(-2.8)\n",
        "print(num2)\n",
        "\n",
        "num3 = float(5)\n",
        "print(num3)\n",
        "\n",
        "num4 = complex('3+5j')\n",
        "print(num4)"
      ]
    },
    {
      "cell_type": "markdown",
      "metadata": {
        "id": "dHEWwl9QN86r"
      },
      "source": [
        "**Python Input and Output**"
      ]
    },
    {
      "cell_type": "code",
      "execution_count": 15,
      "metadata": {
        "id": "TYaFRCgzOeXb"
      },
      "outputs": [
        {
          "ename": "ValueError",
          "evalue": "invalid literal for int() with base 10: ''",
          "output_type": "error",
          "traceback": [
            "\u001b[1;31m---------------------------------------------------------------------------\u001b[0m",
            "\u001b[1;31mValueError\u001b[0m                                Traceback (most recent call last)",
            "Cell \u001b[1;32mIn[15], line 3\u001b[0m\n\u001b[0;32m      1\u001b[0m \u001b[38;5;66;03m# Input\u001b[39;00m\n\u001b[0;32m      2\u001b[0m name \u001b[38;5;241m=\u001b[39m \u001b[38;5;28minput\u001b[39m(\u001b[38;5;124m\"\u001b[39m\u001b[38;5;124mEnter your name: \u001b[39m\u001b[38;5;124m\"\u001b[39m)\n\u001b[1;32m----> 3\u001b[0m age \u001b[38;5;241m=\u001b[39m \u001b[38;5;28;43mint\u001b[39;49m\u001b[43m(\u001b[49m\u001b[38;5;28;43minput\u001b[39;49m\u001b[43m(\u001b[49m\u001b[38;5;124;43m\"\u001b[39;49m\u001b[38;5;124;43mEnter your age: \u001b[39;49m\u001b[38;5;124;43m\"\u001b[39;49m\u001b[43m)\u001b[49m\u001b[43m)\u001b[49m\n\u001b[0;32m      5\u001b[0m year_of_birth \u001b[38;5;241m=\u001b[39m \u001b[38;5;241m2024\u001b[39m \u001b[38;5;241m-\u001b[39m age\n\u001b[0;32m      7\u001b[0m \u001b[38;5;66;03m# Output\u001b[39;00m\n",
            "\u001b[1;31mValueError\u001b[0m: invalid literal for int() with base 10: ''"
          ]
        }
      ],
      "source": [
        "# Input\n",
        "name = input(\"Enter your name: \")\n",
        "age = int(input(\"Enter your age: \"))\n",
        "\n",
        "year_of_birth = 2024 - age\n",
        "\n",
        "# Output\n",
        "print(\"Hello, \" + name + \"!\")\n",
        "print(\"You are\", age, \"years old.\")\n",
        "print(\"You were born in the year\", year_of_birth)"
      ]
    },
    {
      "cell_type": "markdown",
      "metadata": {
        "id": "CtK35lFiOmqQ"
      },
      "source": [
        "**Arithmetic Operators in Python**"
      ]
    },
    {
      "cell_type": "code",
      "execution_count": null,
      "metadata": {
        "id": "TDnyIgi1PBX6"
      },
      "outputs": [],
      "source": [
        "a = 7\n",
        "b = 2\n",
        "\n",
        "# addition\n",
        "print ('Sum: ', a + b)\n",
        "\n",
        "# subtraction\n",
        "print ('Subtraction: ', a - b)\n",
        "\n",
        "# multiplication\n",
        "print ('Multiplication: ', a * b)\n",
        "\n",
        "# division\n",
        "print ('Division: ', a / b)\n",
        "\n",
        "# floor division\n",
        "print ('Floor Division: ', a // b)\n",
        "\n",
        "# modulo\n",
        "print ('Modulo: ', a % b)\n",
        "\n",
        "# a to the power b\n",
        "print ('Power: ', a ** b)\n",
        "\n",
        "# assignment operator\n",
        "a += b      # a = a + b\n",
        "print (a)"
      ]
    },
    {
      "cell_type": "markdown",
      "metadata": {
        "id": "6Mn6bkr3PF7B"
      },
      "source": [
        "**Comparison Operators**"
      ]
    },
    {
      "cell_type": "code",
      "execution_count": null,
      "metadata": {
        "id": "aPIglsPjPFc2"
      },
      "outputs": [],
      "source": [
        "a = 5\n",
        "b = 2\n",
        "\n",
        "# equal to operator\n",
        "print('(a == b)--> ', a == b)\n",
        "\n",
        "# not equal to operator\n",
        "print('(a != b)--> ', a != b)\n",
        "\n",
        "# greater than operator\n",
        "print('(a > b)--> ', a > b)\n",
        "\n",
        "# less than operator\n",
        "print('(a < b)--> ', a < b)\n",
        "\n",
        "# greater than or equal to operator\n",
        "print('(a >= b)--> ', a >= b)\n",
        "\n",
        "# less than or equal to operator\n",
        "print('(a <= b)--> ', a <= b)"
      ]
    },
    {
      "cell_type": "markdown",
      "metadata": {
        "id": "X4nLSdEFP4vB"
      },
      "source": [
        "**Logical Operators**"
      ]
    },
    {
      "cell_type": "code",
      "execution_count": null,
      "metadata": {
        "id": "srxdLpQJQScw"
      },
      "outputs": [],
      "source": [
        "# logical AND\n",
        "print(True and True)\n",
        "print(True and False)\n",
        "\n",
        "# logical OR\n",
        "print(True or False)\n",
        "\n",
        "# logical NOT\n",
        "print(not True)"
      ]
    },
    {
      "cell_type": "markdown",
      "metadata": {
        "id": "N2xP0onVQduW"
      },
      "source": [
        "**Python if…else Statement**"
      ]
    },
    {
      "cell_type": "code",
      "execution_count": null,
      "metadata": {
        "id": "Jn39DpzJRHgy"
      },
      "outputs": [],
      "source": [
        "number = 10\n",
        "\n",
        "if number > 0:\n",
        "    print('Positive number')\n",
        "\n",
        "else:\n",
        "    print('Negative number')\n",
        "\n",
        "print('This statement always executes')"
      ]
    },
    {
      "cell_type": "markdown",
      "metadata": {
        "id": "7F99GZReRKLQ"
      },
      "source": [
        "**Python if…elif…else Statement**"
      ]
    },
    {
      "cell_type": "code",
      "execution_count": null,
      "metadata": {
        "id": "LdlzEKT1G6jf"
      },
      "outputs": [],
      "source": [
        "number = 15\n",
        "\n",
        "if number < 10:\n",
        "    print(\"The number is less than 10.\")\n",
        "elif number < 20:\n",
        "    print(\"The number is between 10 and 19.\")\n",
        "elif number < 30:\n",
        "    print(\"The number is between 20 and 29.\")\n",
        "else:\n",
        "    print(\"The number is 30 or greater.\")"
      ]
    },
    {
      "cell_type": "markdown",
      "metadata": {
        "id": "nENeaAzORR0H"
      },
      "source": [
        "**Python Nested if Statements**"
      ]
    },
    {
      "cell_type": "code",
      "execution_count": null,
      "metadata": {
        "id": "TSQUcrdlRUnq"
      },
      "outputs": [],
      "source": [
        "age = 29\n",
        "\n",
        "if age < 18:\n",
        "    if age < 13:\n",
        "        print(\"You are a child.\")\n",
        "    else:\n",
        "        print(\"You are a teenager.\")\n",
        "else:\n",
        "    if age < 30:\n",
        "        print(\"You are a young adult.\")\n",
        "    elif age < 60:\n",
        "        print(\"You are a middle-aged adult.\")\n",
        "    else:\n",
        "        print(\"You are a senior adult.\")"
      ]
    },
    {
      "cell_type": "markdown",
      "metadata": {
        "id": "V58XZIxjRYv_"
      },
      "source": [
        "**Python for Loop**"
      ]
    },
    {
      "cell_type": "code",
      "execution_count": null,
      "metadata": {
        "id": "gB6UsaO4RxZ5"
      },
      "outputs": [],
      "source": [
        "# iterate from i = 0 to i = 3\n",
        "for i in range(4):\n",
        "    print(i)"
      ]
    },
    {
      "cell_type": "code",
      "execution_count": null,
      "metadata": {
        "id": "YHoQmFB2T1K8"
      },
      "outputs": [],
      "source": [
        "i = 1\n",
        "end = 6\n",
        "inc = 2\n",
        "\n",
        "for i in range(i, end, inc):\n",
        "  print(i)"
      ]
    },
    {
      "cell_type": "code",
      "execution_count": null,
      "metadata": {
        "id": "JAgUXeCQR4B8"
      },
      "outputs": [],
      "source": [
        "# Define a list of numbers\n",
        "numbers = [1, 2, 3, 4, 5]\n",
        "\n",
        "for num in numbers:\n",
        "    # Print each number multiplied by 2\n",
        "    print(num * 2)"
      ]
    },
    {
      "cell_type": "code",
      "execution_count": null,
      "metadata": {
        "id": "OdGX7BuzTKLI"
      },
      "outputs": [],
      "source": [
        "languages = ['Swift', 'Python', 'Go']\n",
        "\n",
        "for i in languages:\n",
        "    print(i)"
      ]
    },
    {
      "cell_type": "code",
      "execution_count": null,
      "metadata": {
        "id": "8BnNHT5oTOjM"
      },
      "outputs": [],
      "source": [
        "for i in range(5):\n",
        "    if i == 3:\n",
        "        break\n",
        "    print(i)"
      ]
    },
    {
      "cell_type": "code",
      "execution_count": null,
      "metadata": {
        "id": "W79cqfbWTWgu"
      },
      "outputs": [],
      "source": [
        "for i in range(5):\n",
        "    if i == 3:\n",
        "        continue\n",
        "    print(i)"
      ]
    },
    {
      "cell_type": "markdown",
      "metadata": {
        "id": "N20AEfyKeuCv"
      },
      "source": [
        "**Python Nested for Loop**"
      ]
    },
    {
      "cell_type": "code",
      "execution_count": null,
      "metadata": {
        "id": "5sflwW1HetkA"
      },
      "outputs": [],
      "source": [
        "# Define a list of fruits\n",
        "fruits = [\"apple\", \"banana\", \"cherry\"]\n",
        "\n",
        "# Define a list of colors\n",
        "colors = [\"red\", \"yellow\", \"black\"]\n",
        "\n",
        "# Nested loop to combine each fruit with each color\n",
        "for fruit in fruits:\n",
        "    for color in colors:\n",
        "        print(fruit, color)"
      ]
    },
    {
      "cell_type": "markdown",
      "metadata": {
        "id": "LUWemH1YTbN3"
      },
      "source": [
        "**Python Mathematics**"
      ]
    },
    {
      "cell_type": "code",
      "execution_count": null,
      "metadata": {
        "id": "tFA2xoIDWQTM"
      },
      "outputs": [],
      "source": [
        "import math\n",
        "\n",
        "# Trigonometric functions\n",
        "print(\"\\nTrigonometric Functions:\")\n",
        "print(\"Sine of 30 degrees:\", math.sin(math.radians(30)))\n",
        "print(\"Cosine of 30 degrees:\", math.cos(math.radians(30)))\n",
        "print(\"Tangent of 30 degrees:\", math.tan(math.radians(30)))\n",
        "\n",
        "# Logarithmic and exponential functions\n",
        "print(\"\\nLogarithmic and Exponential Functions:\")\n",
        "print(\"Natural Logarithm (base e) of 2:\", math.log(2))\n",
        "print(\"Logarithm base 10 of 100:\", math.log10(100))\n",
        "print(\"Exponential of 2:\", math.exp(2))\n",
        "\n",
        "# Constants\n",
        "print(\"\\nConstants:\")\n",
        "print(\"Value of pi:\", math.pi)\n",
        "print(\"Value of e:\", math.e)"
      ]
    },
    {
      "cell_type": "markdown",
      "metadata": {
        "id": "EEpiF5F1WSew"
      },
      "source": [
        "**Python List**"
      ]
    },
    {
      "cell_type": "code",
      "execution_count": null,
      "metadata": {
        "id": "pxdTFYPFXQQi"
      },
      "outputs": [],
      "source": [
        "colors = ['Red', 'Black', 'Green']\n",
        "\n",
        "# Print the original list\n",
        "print(\"Original list of colors:\", colors)"
      ]
    },
    {
      "cell_type": "code",
      "execution_count": null,
      "metadata": {
        "id": "B2hue9VCXVZl"
      },
      "outputs": [],
      "source": [
        "# Accessing elements in the list\n",
        "print(\"First color:\", colors[0])\n",
        "print(\"Last color:\", colors[2])\n",
        "print(\"Last color:\", colors[-1])\n",
        "print(\"Sliced colors:\", colors[-2:])"
      ]
    },
    {
      "cell_type": "code",
      "execution_count": null,
      "metadata": {
        "id": "_z5FV9gHXcB7"
      },
      "outputs": [],
      "source": [
        "colors[0] = 'Blue'\n",
        "print(\"Modified list after changing the first color to Blue:\", colors)"
      ]
    },
    {
      "cell_type": "code",
      "execution_count": null,
      "metadata": {
        "id": "iNECTVWAXytH"
      },
      "outputs": [],
      "source": [
        "colors.append('Yellow')\n",
        "print(\"List after appending Yellow:\", colors)"
      ]
    },
    {
      "cell_type": "code",
      "execution_count": null,
      "metadata": {
        "id": "RxS6zqfQX18W"
      },
      "outputs": [],
      "source": [
        "colors.insert(1, 'White')\n",
        "print(\"List after inserting White at index 1:\", colors)"
      ]
    },
    {
      "cell_type": "code",
      "execution_count": null,
      "metadata": {
        "id": "nWLSIu2wX5za"
      },
      "outputs": [],
      "source": [
        "colors.remove(colors[0])\n",
        "print(\"List after removing Black:\", colors)"
      ]
    },
    {
      "cell_type": "code",
      "execution_count": null,
      "metadata": {
        "id": "d_vK3Y0BX9mt"
      },
      "outputs": [],
      "source": [
        "# List operations\n",
        "print(\"Number of colors in the list:\", len(colors))\n",
        "print(\"Reversed list of colors:\", list(reversed(colors)))"
      ]
    },
    {
      "cell_type": "code",
      "execution_count": null,
      "metadata": {
        "id": "2CiPe_U6YFdX"
      },
      "outputs": [],
      "source": [
        "# Checking if an element is in the list\n",
        "print(\"Is 'Green' present in the list?\", 'green' in colors)"
      ]
    },
    {
      "cell_type": "code",
      "execution_count": null,
      "metadata": {
        "id": "fixFU_rHYXlq"
      },
      "outputs": [],
      "source": [
        "# Iterating over the list\n",
        "print(\"Iterating over the list of colors:\")\n",
        "for color in colors:\n",
        "    print(color)"
      ]
    },
    {
      "cell_type": "code",
      "execution_count": null,
      "metadata": {
        "id": "Av7JT-OjYGYP"
      },
      "outputs": [],
      "source": [
        "my_list = [2, 1, 4, 5, 3]\n",
        "print(\"Sorted list of colors:\", sorted(my_list))"
      ]
    },
    {
      "cell_type": "markdown",
      "metadata": {
        "id": "FHo1hYzBY8vb"
      },
      "source": [
        "**Python Tuple**"
      ]
    },
    {
      "cell_type": "markdown",
      "metadata": {
        "id": "CBMvBB1PJiy4"
      },
      "source": [
        "1. Once a tuple is created, its elements cannot be modified, added, or removed. (Immutable)\n",
        "2. Elements in a tuple can be accessed using their index, starting from 0 for the first element.\n",
        "3. A tuple can hold elements of different types, including other tuples.\n",
        "\n"
      ]
    },
    {
      "cell_type": "code",
      "execution_count": null,
      "metadata": {
        "id": "WLgQB5GFY18s"
      },
      "outputs": [],
      "source": [
        "# Define a tuple\n",
        "my_tuple = (1, 2, 3, 'a', 'b', 'c')\n",
        "\n",
        "# Accessing elements of a tuple\n",
        "print(\"First element:\", my_tuple[0])\n",
        "print(\"Last element:\", my_tuple[-1])\n",
        "print(\"Slicing tuple:\", my_tuple[2:5])"
      ]
    },
    {
      "cell_type": "code",
      "execution_count": null,
      "metadata": {
        "id": "QRQA3gaiZD2v"
      },
      "outputs": [],
      "source": [
        "# Length of a tuple\n",
        "print(\"Length of tuple:\", len(my_tuple))"
      ]
    },
    {
      "cell_type": "code",
      "execution_count": null,
      "metadata": {
        "id": "_JK0UIM7ZJMO"
      },
      "outputs": [],
      "source": [
        "# Check if an item exists in a tuple\n",
        "print(\"Is 'a' in the tuple?\", 'a' in my_tuple)"
      ]
    },
    {
      "cell_type": "code",
      "execution_count": null,
      "metadata": {
        "id": "jNJA65W3ZM-V"
      },
      "outputs": [],
      "source": [
        "# Iterate through a tuple\n",
        "print(\"Iterating through the tuple:\")\n",
        "for item in my_tuple:\n",
        "    print(item)"
      ]
    },
    {
      "cell_type": "markdown",
      "metadata": {
        "id": "G9T-16kfZSPS"
      },
      "source": [
        "**List Tuple Conversion**"
      ]
    },
    {
      "cell_type": "code",
      "execution_count": null,
      "metadata": {
        "id": "BnRU957TZg4_"
      },
      "outputs": [],
      "source": [
        "fruits = ('apple','banana','orange')"
      ]
    },
    {
      "cell_type": "code",
      "execution_count": null,
      "metadata": {
        "id": "XEYi2wx3ZRph"
      },
      "outputs": [],
      "source": [
        "# Convert a tuple to a list\n",
        "tuple_as_list = list(fruits)\n",
        "print(\"Tuple converted to list:\", tuple_as_list)"
      ]
    },
    {
      "cell_type": "code",
      "execution_count": null,
      "metadata": {
        "id": "wCxXiz1bZetx"
      },
      "outputs": [],
      "source": [
        "# Convert a list to a tuple\n",
        "list_as_tuple = tuple(tuple_as_list)\n",
        "print(\"List converted to tuple:\", list_as_tuple)"
      ]
    },
    {
      "cell_type": "markdown",
      "metadata": {
        "id": "j215hbO5Z3Dm"
      },
      "source": [
        "**Python String**"
      ]
    },
    {
      "cell_type": "code",
      "execution_count": null,
      "metadata": {
        "id": "qC4M3aEcZ5mu"
      },
      "outputs": [],
      "source": [
        "# join two string\n",
        "greet = \"Hello \"\n",
        "name = \"World\"\n",
        "\n",
        "# using + operator\n",
        "result = greet + name\n",
        "print(result)"
      ]
    },
    {
      "cell_type": "code",
      "execution_count": null,
      "metadata": {
        "id": "RHBnHrZvaDom"
      },
      "outputs": [],
      "source": [
        "greet = 'Hello'\n",
        "\n",
        "# iterating through greet string\n",
        "for i in greet:\n",
        "    print(i)"
      ]
    },
    {
      "cell_type": "code",
      "execution_count": null,
      "metadata": {
        "id": "gdNALPF7aIuG"
      },
      "outputs": [],
      "source": [
        "greet = 'Hello'\n",
        "\n",
        "# count length of greet string\n",
        "print(len(greet))"
      ]
    },
    {
      "cell_type": "markdown",
      "metadata": {
        "id": "2mLAa59PaMlz"
      },
      "source": [
        "**Python Set**"
      ]
    },
    {
      "cell_type": "markdown",
      "metadata": {
        "id": "YkQrdpRFKRFr"
      },
      "source": [
        "1. Elements in a set do not have a specific order, and there is no way to access elements by an index (Mutable).\n",
        "2. Sets do not allow duplicate elements. If duplicates are added, they are automatically removed.\n",
        "3. You can add or remove elements from a set.\n",
        "4. Elements cannot be accessed by an index or a key."
      ]
    },
    {
      "cell_type": "code",
      "execution_count": null,
      "metadata": {
        "id": "crHBs9lmaiSN"
      },
      "outputs": [],
      "source": [
        "# Creating a set\n",
        "toys = {'car', 'plane', 'animal'}\n",
        "print(\"Initial set:\", toys)"
      ]
    },
    {
      "cell_type": "code",
      "execution_count": null,
      "metadata": {
        "id": "WOzYTHTHalRg"
      },
      "outputs": [],
      "source": [
        "# Adding elements to a set\n",
        "toys.add('doll')\n",
        "print(\"After adding 'doll':\", toys)"
      ]
    },
    {
      "cell_type": "code",
      "execution_count": null,
      "metadata": {
        "id": "EMRYEqgbaoGb"
      },
      "outputs": [],
      "source": [
        "# Removing elements from a set\n",
        "toys.remove('animal')\n",
        "print(\"After removing 'plane':\", toys)"
      ]
    },
    {
      "cell_type": "code",
      "execution_count": null,
      "metadata": {
        "id": "TMmaBwazbOUy"
      },
      "outputs": [],
      "source": [
        "# Checking membership in a set\n",
        "print(\"Is 'car' in the set?\", 'car' in toys)\n",
        "print(\"Is 'ball' in the set?\", 'ball' in toys)"
      ]
    },
    {
      "cell_type": "code",
      "execution_count": null,
      "metadata": {
        "id": "hRXSpcdOblu1"
      },
      "outputs": [],
      "source": [
        "# Length of a set\n",
        "print(\"Length of the set:\", len(toys))"
      ]
    },
    {
      "cell_type": "code",
      "execution_count": null,
      "metadata": {
        "id": "M5sMV73Obp26"
      },
      "outputs": [],
      "source": [
        "# Clearing a set\n",
        "toys.clear()\n",
        "print(\"Cleared set:\", toys)"
      ]
    },
    {
      "cell_type": "code",
      "execution_count": null,
      "metadata": {
        "id": "cSdGffuQLKaA"
      },
      "outputs": [],
      "source": [
        "# Set operations: union, intersection, difference\n",
        "\n",
        "set1 = {1, 2, 3, 4, 5}\n",
        "set2 = {4, 5, 6, 7, 8}\n",
        "\n",
        "union_set = set1.union(set2)\n",
        "print(\"Union:\", union_set)\n",
        "\n",
        "intersection_set = set1.intersection(set2)\n",
        "print(\"Intersection:\", intersection_set)\n",
        "\n",
        "difference_set = set1.difference(set2)\n",
        "print(\"Difference (set1 - set2):\", difference_set)\n",
        "\n",
        "difference_set2 = set2.difference(set1)\n",
        "print(\"Difference (set2 - set1):\", difference_set2)"
      ]
    },
    {
      "cell_type": "markdown",
      "metadata": {
        "id": "sF6nWDCxcIxx"
      },
      "source": [
        "**Python Dictionary**"
      ]
    },
    {
      "cell_type": "code",
      "execution_count": null,
      "metadata": {
        "id": "LlPMPQcOcIcS"
      },
      "outputs": [],
      "source": [
        "# Creating an empty dictionary\n",
        "my_dict = {}\n",
        "\n",
        "# Adding key-value pairs to the dictionary\n",
        "my_dict['name'] = 'John'\n",
        "my_dict['age'] = 30\n",
        "my_dict['gender'] = 'male'"
      ]
    },
    {
      "cell_type": "code",
      "execution_count": null,
      "metadata": {
        "id": "ybljrLfpcO6d"
      },
      "outputs": [],
      "source": [
        "# Printing the dictionary\n",
        "print(\"Dictionary:\", my_dict)"
      ]
    },
    {
      "cell_type": "code",
      "execution_count": null,
      "metadata": {
        "id": "DBkbPHstcTjL"
      },
      "outputs": [],
      "source": [
        "# Accessing value using key\n",
        "print(\"Value for key 'name':\", my_dict['name'])"
      ]
    },
    {
      "cell_type": "code",
      "execution_count": null,
      "metadata": {
        "id": "K0UTKor0cWSC"
      },
      "outputs": [],
      "source": [
        "# Checking if a key exists\n",
        "if 'age' in my_dict:\n",
        "    print(\"'age' is present in the dictionary.\")\n",
        "else:\n",
        "    print(\"'age' is not present in the dictionary.\")"
      ]
    },
    {
      "cell_type": "code",
      "execution_count": null,
      "metadata": {
        "id": "Vfz-92oCcZBx"
      },
      "outputs": [],
      "source": [
        "# Removing a key-value pair\n",
        "removed_value = my_dict.pop('age')\n",
        "print(\"Removed value:\", removed_value)\n",
        "print(\"Dictionary after removing 'age':\", my_dict)"
      ]
    },
    {
      "cell_type": "code",
      "execution_count": null,
      "metadata": {
        "id": "c8JxjB2oceM9"
      },
      "outputs": [],
      "source": [
        "# Iterating through keys and values\n",
        "print(\"Keys:\")\n",
        "for key in my_dict:\n",
        "    print(key)"
      ]
    },
    {
      "cell_type": "code",
      "execution_count": null,
      "metadata": {
        "id": "_pCDb_5-ciJZ"
      },
      "outputs": [],
      "source": [
        "print(\"Values:\")\n",
        "for value in my_dict.values():\n",
        "    print(value)"
      ]
    },
    {
      "cell_type": "code",
      "execution_count": null,
      "metadata": {
        "id": "uEcBI7FKckiR"
      },
      "outputs": [],
      "source": [
        "# Checking the length of the dictionary\n",
        "print(\"Length of dictionary:\", len(my_dict))"
      ]
    },
    {
      "cell_type": "code",
      "execution_count": null,
      "metadata": {
        "id": "CSnDS1eOcl29"
      },
      "outputs": [],
      "source": [
        "# Clearing the dictionary\n",
        "my_dict.clear()\n",
        "print(\"Dictionary after clearing:\", my_dict)"
      ]
    },
    {
      "cell_type": "markdown",
      "metadata": {
        "id": "WiwsqCvouF2C"
      },
      "source": [
        "**Python Function**"
      ]
    },
    {
      "cell_type": "code",
      "execution_count": null,
      "metadata": {
        "id": "Gw9DoWFluFjo"
      },
      "outputs": [],
      "source": [
        "# function with two arguments\n",
        "def add_numbers(num1, num2):\n",
        "    sum = num1 + num2\n",
        "    print(\"Sum: \", sum)\n",
        "\n",
        "# function call\n",
        "add_numbers(5, 4)"
      ]
    }
  ],
  "metadata": {
    "colab": {
      "include_colab_link": true,
      "provenance": []
    },
    "kernelspec": {
      "display_name": "Python 3",
      "name": "python3"
    },
    "language_info": {
      "codemirror_mode": {
        "name": "ipython",
        "version": 3
      },
      "file_extension": ".py",
      "mimetype": "text/x-python",
      "name": "python",
      "nbconvert_exporter": "python",
      "pygments_lexer": "ipython3",
      "version": "3.12.2"
    }
  },
  "nbformat": 4,
  "nbformat_minor": 0
}
